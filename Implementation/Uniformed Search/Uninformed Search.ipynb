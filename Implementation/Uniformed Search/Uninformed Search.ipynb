{
 "cells": [
  {
   "cell_type": "markdown",
   "metadata": {},
   "source": [
    "# Depth First Search"
   ]
  },
  {
   "cell_type": "code",
   "execution_count": 16,
   "metadata": {},
   "outputs": [],
   "source": [
    "def DFS(graph , start , goal):\n",
    "    visited = set()\n",
    "    stack = [start]\n",
    "    \n",
    "    while stack:\n",
    "        n = stack.pop()\n",
    "        if n not in visited:\n",
    "            print n\n",
    "            visited.add(n)\n",
    "            \n",
    "            if(goal == n):\n",
    "                return\n",
    "            \n",
    "            for neigbours in graph[n]:\n",
    "                if neigbours not in visited:\n",
    "                    stack.append(neigbours)"
   ]
  },
  {
   "cell_type": "markdown",
   "metadata": {},
   "source": [
    "# Breadth First Search"
   ]
  },
  {
   "cell_type": "code",
   "execution_count": 14,
   "metadata": {},
   "outputs": [],
   "source": [
    "from collections import deque\n",
    "def BFS(graph , start , goal):\n",
    "    visited = set()\n",
    "    queue = deque()\n",
    "    queue.append(start)\n",
    "    \n",
    "    while queue:\n",
    "        n = queue.pop()\n",
    "        if n not in visited:\n",
    "            print n\n",
    "            visited.add(n)\n",
    "            \n",
    "            if(goal == n):\n",
    "                return\n",
    "            \n",
    "            for neigbours in graph[n]:\n",
    "                if neigbours not in visited:\n",
    "                    queue.appendleft(neigbours)"
   ]
  },
  {
   "cell_type": "markdown",
   "metadata": {},
   "source": [
    "# Running"
   ]
  },
  {
   "cell_type": "code",
   "execution_count": 17,
   "metadata": {},
   "outputs": [
    {
     "name": "stdout",
     "output_type": "stream",
     "text": [
      "BFS Output : \n",
      "A\n",
      "B\n",
      "C\n",
      "D\n",
      "------------------------\n",
      "DFS Output : \n",
      "A\n",
      "C\n",
      "B\n",
      "D\n"
     ]
    }
   ],
   "source": [
    "small_graph = {\n",
    "    'A' : ['B' , 'C'],\n",
    "    'B' : ['A' , 'D'],\n",
    "    'C' : ['A'],\n",
    "    'D' : ['B']\n",
    "}\n",
    "\n",
    "print 'BFS Output : '\n",
    "BFS(small_graph , 'A' , 'D')\n",
    "\n",
    "print'------------------------'\n",
    "\n",
    "print('DFS Output : ')\n",
    "DFS(small_graph , 'A' , 'D')"
   ]
  }
 ],
 "metadata": {
  "kernelspec": {
   "display_name": "Python 2",
   "language": "python",
   "name": "python2"
  },
  "language_info": {
   "codemirror_mode": {
    "name": "ipython",
    "version": 2
   },
   "file_extension": ".py",
   "mimetype": "text/x-python",
   "name": "python",
   "nbconvert_exporter": "python",
   "pygments_lexer": "ipython2",
   "version": "2.7.14"
  }
 },
 "nbformat": 4,
 "nbformat_minor": 2
}
